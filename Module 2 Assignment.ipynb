{
 "cells": [
  {
   "cell_type": "markdown",
   "id": "4422be4b-120d-410a-adfc-ed064431421c",
   "metadata": {},
   "source": [
    "# My Jupyter Notebook on IBM Watson Studio"
   ]
  },
  {
   "cell_type": "markdown",
   "id": "68235166-5a03-4bfd-8908-1c8bb218b29e",
   "metadata": {},
   "source": [
    "**Daria Khon** \\\n",
    "Project Engineer"
   ]
  },
  {
   "cell_type": "markdown",
   "id": "b6dc04ad-04d9-4cca-bc46-339d243c4586",
   "metadata": {},
   "source": [
    "_I am interested in data science as a potential career switch_"
   ]
  },
  {
   "cell_type": "markdown",
   "id": "a5f9f644-3744-42f6-840a-071b7b97d099",
   "metadata": {},
   "source": [
    "### The code below will print the summation result of two variable"
   ]
  },
  {
   "cell_type": "code",
   "execution_count": 3,
   "id": "92b4a36c-19fd-4b9e-a10f-44a95c9b9a79",
   "metadata": {},
   "outputs": [
    {
     "name": "stdout",
     "output_type": "stream",
     "text": [
      "9\n"
     ]
    }
   ],
   "source": [
    "a = 5;\n",
    "b = 4;\n",
    "print(a+b)"
   ]
  },
  {
   "cell_type": "markdown",
   "id": "8dfea2bd-a8b0-4138-88c3-a262098d5992",
   "metadata": {},
   "source": [
    "Good dessert options:\n",
    "* Pie\n",
    "* Cake\n",
    "* Ice cream\n",
    "\n",
    "[this is a link to Wikipedia page about chocolate](https://en.wikipedia.org/wiki/Chocolate)\n",
    "\n",
    "| Month | Number of Days |\n",
    "| ------ | ------ |\n",
    "| September | 30 |\n",
    "| November | 31 | \n"
   ]
  },
  {
   "cell_type": "code",
   "execution_count": null,
   "id": "49eddaf8-6c05-4365-9ab8-d581bbbfd93a",
   "metadata": {},
   "outputs": [],
   "source": []
  }
 ],
 "metadata": {
  "kernelspec": {
   "display_name": "Python",
   "language": "python",
   "name": "conda-env-python-py"
  },
  "language_info": {
   "codemirror_mode": {
    "name": "ipython",
    "version": 3
   },
   "file_extension": ".py",
   "mimetype": "text/x-python",
   "name": "python",
   "nbconvert_exporter": "python",
   "pygments_lexer": "ipython3",
   "version": "3.7.12"
  }
 },
 "nbformat": 4,
 "nbformat_minor": 5
}
